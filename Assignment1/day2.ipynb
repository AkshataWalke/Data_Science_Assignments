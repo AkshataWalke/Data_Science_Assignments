{
 "cells": [
  {
   "cell_type": "code",
   "execution_count": 20,
   "id": "f2527834-8214-445e-8ce8-d4a3f6f5e08b",
   "metadata": {},
   "outputs": [],
   "source": [
    "from bs4 import BeautifulSoup as bs\n",
    "import requests\n",
    "\n",
    "link=\"https://www.reliancedigital.in/apple-airpods-pro-2nd-gen-usb-c-type-with-magsafe-charging-case-true-wireless-with-active-noise-cancellation-touch-control-ip54-dust-sweat-and-water-resistant-bluetooth-v5-3-upto-30-hrs-of-playtime-white/p/493839243\""
   ]
  },
  {
   "cell_type": "code",
   "execution_count": 21,
   "id": "972a3fbb-1f8c-4515-b753-43cb2d10cda6",
   "metadata": {},
   "outputs": [
    {
     "data": {
      "text/plain": [
       "<Response [200]>"
      ]
     },
     "execution_count": 21,
     "metadata": {},
     "output_type": "execute_result"
    }
   ],
   "source": [
    "page =requests.get(link)\n",
    "page"
   ]
  },
  {
   "cell_type": "code",
   "execution_count": 22,
   "id": "1ffec680-cc6c-4560-8189-772cdcceda7f",
   "metadata": {},
   "outputs": [],
   "source": [
    "soup=bs(page.content,'html.parser')"
   ]
  },
  {
   "cell_type": "code",
   "execution_count": 23,
   "id": "f41958f4-4d26-445e-803a-575812f0f35c",
   "metadata": {},
   "outputs": [
    {
     "data": {
      "text/plain": [
       "[]"
      ]
     },
     "execution_count": 23,
     "metadata": {},
     "output_type": "execute_result"
    }
   ],
   "source": [
    "names=soup.find_all(\"span\",class_=\"TextWeb__Text-sc-1cyx778-0 gEyFve Block-sc-u1lygz-0 SpmXl\")\n",
    "names"
   ]
  },
  {
   "cell_type": "code",
   "execution_count": 24,
   "id": "f2ffc6a2-0b2c-47fb-8abb-07efddfbc19e",
   "metadata": {},
   "outputs": [],
   "source": [
    "title=[] \n",
    "for i in range(len(names)):\n",
    "    title.append(names[i].get_text())"
   ]
  },
  {
   "cell_type": "code",
   "execution_count": 25,
   "id": "af9e30c0-31b0-496c-91e4-0c2bfce01f4c",
   "metadata": {},
   "outputs": [
    {
     "data": {
      "text/plain": [
       "[]"
      ]
     },
     "execution_count": 25,
     "metadata": {},
     "output_type": "execute_result"
    }
   ],
   "source": [
    "title"
   ]
  },
  {
   "cell_type": "code",
   "execution_count": 26,
   "id": "e5dfbfb9-0427-4612-9de5-91eebe16b0d4",
   "metadata": {},
   "outputs": [],
   "source": [
    "review=soup.find_all(\"div\",class_=\"TextWeb__Text-sc-1cyx778-0 SingleReview__ReviewText-sc-1knvtv4-0 cXyRgU cuCfAW\")"
   ]
  },
  {
   "cell_type": "code",
   "execution_count": 27,
   "id": "44825a93-0755-452e-911f-2d17aed081d4",
   "metadata": {},
   "outputs": [],
   "source": [
    "rev=[]\n",
    "for i in range(len(review)):\n",
    "    rev.append(review[i].get_text())"
   ]
  },
  {
   "cell_type": "code",
   "execution_count": 28,
   "id": "72e1f1ea-fbdd-4e34-8b7e-93ea36905a41",
   "metadata": {},
   "outputs": [
    {
     "data": {
      "text/plain": [
       "[]"
      ]
     },
     "execution_count": 28,
     "metadata": {},
     "output_type": "execute_result"
    }
   ],
   "source": [
    "rev"
   ]
  },
  {
   "cell_type": "code",
   "execution_count": 29,
   "id": "5600daf4-9e43-48ff-bb6d-0addc2ae7155",
   "metadata": {},
   "outputs": [
    {
     "data": {
      "text/plain": [
       "[]"
      ]
     },
     "execution_count": 29,
     "metadata": {},
     "output_type": "execute_result"
    }
   ],
   "source": [
    "dat=soup.find_all(\"div\",class_=\"TextWeb__Text-sc-1cyx778-0 jJCYzv\")\n",
    "dat"
   ]
  },
  {
   "cell_type": "code",
   "execution_count": 30,
   "id": "2e7c7ab1-f1f3-425e-b559-8a1a4182159b",
   "metadata": {},
   "outputs": [
    {
     "name": "stdout",
     "output_type": "stream",
     "text": [
      "0\n",
      "0\n",
      "0\n"
     ]
    }
   ],
   "source": [
    "print(len(dat))\n",
    "print(len(rev))\n",
    "print(len(title))"
   ]
  },
  {
   "cell_type": "code",
   "execution_count": 31,
   "id": "eac37956-99b9-4c1e-bcf7-4427ca3f9508",
   "metadata": {},
   "outputs": [
    {
     "data": {
      "text/plain": [
       "[]"
      ]
     },
     "execution_count": 31,
     "metadata": {},
     "output_type": "execute_result"
    }
   ],
   "source": [
    "dat"
   ]
  },
  {
   "cell_type": "code",
   "execution_count": 32,
   "id": "f68a7fbe-e7cc-4441-b886-402a9b8c0167",
   "metadata": {},
   "outputs": [],
   "source": [
    "date=[]\n",
    "for i in range(len(dat)):\n",
    "    date.append(dat[i].get_text())"
   ]
  },
  {
   "cell_type": "code",
   "execution_count": 42,
   "id": "d481bf48-63fc-44f2-86d4-2f2819d03508",
   "metadata": {},
   "outputs": [
    {
     "ename": "IndexError",
     "evalue": "list index out of range",
     "output_type": "error",
     "traceback": [
      "\u001b[1;31m---------------------------------------------------------------------------\u001b[0m",
      "\u001b[1;31mIndexError\u001b[0m                                Traceback (most recent call last)",
      "Cell \u001b[1;32mIn[42], line 1\u001b[0m\n\u001b[1;32m----> 1\u001b[0m date[\u001b[38;5;241m0\u001b[39m]\u001b[38;5;241m.\u001b[39msplit(\u001b[38;5;124m'\u001b[39m\u001b[38;5;124m,\u001b[39m\u001b[38;5;124m'\u001b[39m)[\u001b[38;5;241m1\u001b[39m]\n",
      "\u001b[1;31mIndexError\u001b[0m: list index out of range"
     ]
    }
   ],
   "source": [
    "date[0].split(',')[1]"
   ]
  },
  {
   "cell_type": "code",
   "execution_count": 34,
   "id": "de8abe78-2b5b-405d-8d0a-db7adbaffacf",
   "metadata": {},
   "outputs": [],
   "source": [
    "date_new=[]\n",
    "for i in range(len(date)):\n",
    "    date_new.append(date[i].split(',')[1])"
   ]
  },
  {
   "cell_type": "code",
   "execution_count": 35,
   "id": "535d42ef-8cdb-42be-aad3-67eee177715a",
   "metadata": {},
   "outputs": [
    {
     "data": {
      "text/plain": [
       "[]"
      ]
     },
     "execution_count": 35,
     "metadata": {},
     "output_type": "execute_result"
    }
   ],
   "source": [
    "date_new"
   ]
  },
  {
   "cell_type": "code",
   "execution_count": 36,
   "id": "ab286ce9-d818-4055-95ce-780207b03535",
   "metadata": {},
   "outputs": [
    {
     "data": {
      "text/plain": [
       "0"
      ]
     },
     "execution_count": 36,
     "metadata": {},
     "output_type": "execute_result"
    }
   ],
   "source": [
    "len(date_new)"
   ]
  },
  {
   "cell_type": "code",
   "execution_count": 37,
   "id": "6af0b97f-ecc1-41fe-815d-475b08747580",
   "metadata": {},
   "outputs": [
    {
     "data": {
      "text/plain": [
       "[]"
      ]
     },
     "execution_count": 37,
     "metadata": {},
     "output_type": "execute_result"
    }
   ],
   "source": [
    "rev"
   ]
  },
  {
   "cell_type": "code",
   "execution_count": 38,
   "id": "ef4e3e02-2099-417f-9a66-2c9cf452c603",
   "metadata": {},
   "outputs": [
    {
     "data": {
      "text/plain": [
       "[]"
      ]
     },
     "execution_count": 38,
     "metadata": {},
     "output_type": "execute_result"
    }
   ],
   "source": [
    "title\n"
   ]
  },
  {
   "cell_type": "code",
   "execution_count": 39,
   "id": "d1c81653-0b59-4e5c-9d40-e529080c2fd1",
   "metadata": {},
   "outputs": [],
   "source": [
    "import pandas as pd \n",
    "df =pd.DataFrame({\n",
    "    \"Title\":title,\n",
    "    \"Date\":date_new,\n",
    "    \"Review\":rev\n",
    "})"
   ]
  },
  {
   "cell_type": "code",
   "execution_count": 40,
   "id": "a5f2bb0a-69b7-43a0-8adc-6d0518763a06",
   "metadata": {},
   "outputs": [
    {
     "data": {
      "text/html": [
       "<div>\n",
       "<style scoped>\n",
       "    .dataframe tbody tr th:only-of-type {\n",
       "        vertical-align: middle;\n",
       "    }\n",
       "\n",
       "    .dataframe tbody tr th {\n",
       "        vertical-align: top;\n",
       "    }\n",
       "\n",
       "    .dataframe thead th {\n",
       "        text-align: right;\n",
       "    }\n",
       "</style>\n",
       "<table border=\"1\" class=\"dataframe\">\n",
       "  <thead>\n",
       "    <tr style=\"text-align: right;\">\n",
       "      <th></th>\n",
       "      <th>Title</th>\n",
       "      <th>Date</th>\n",
       "      <th>Review</th>\n",
       "    </tr>\n",
       "  </thead>\n",
       "  <tbody>\n",
       "  </tbody>\n",
       "</table>\n",
       "</div>"
      ],
      "text/plain": [
       "Empty DataFrame\n",
       "Columns: [Title, Date, Review]\n",
       "Index: []"
      ]
     },
     "execution_count": 40,
     "metadata": {},
     "output_type": "execute_result"
    }
   ],
   "source": [
    "df.head(4)"
   ]
  },
  {
   "cell_type": "code",
   "execution_count": 41,
   "id": "1ade6a54-e84a-425e-a275-9f22e1129e53",
   "metadata": {},
   "outputs": [],
   "source": [
    "from textblob import TextBlob\n",
    "df['polarity']=df['Review'].apply(lambda x:TextBlob(str(x)).sentiment.polarity)"
   ]
  },
  {
   "cell_type": "code",
   "execution_count": 40,
   "id": "1b8bcf3f-b25f-4fd8-bb4b-6220f2b7e542",
   "metadata": {},
   "outputs": [
    {
     "data": {
      "text/plain": [
       "0     0.244141\n",
       "1     0.600000\n",
       "2     0.357143\n",
       "3     1.000000\n",
       "4     0.600000\n",
       "5     0.000000\n",
       "6     0.565000\n",
       "7     0.600000\n",
       "8     0.400000\n",
       "9     0.083333\n",
       "10    0.000000\n",
       "11    0.750000\n",
       "Name: polarity, dtype: float64"
      ]
     },
     "execution_count": 40,
     "metadata": {},
     "output_type": "execute_result"
    }
   ],
   "source": [
    "df['polarity']"
   ]
  },
  {
   "cell_type": "code",
   "execution_count": 46,
   "id": "9be0488e-1c16-4ecd-81c3-bd0a8cde7ea4",
   "metadata": {},
   "outputs": [
    {
     "data": {
      "text/plain": [
       "Title                             Of course Apple is the boss\n",
       "Date                                                9/24/2024\n",
       "Review      Product is awesome. No issue in connecting. Go...\n",
       "polarity                                                  1.0\n",
       "Name: 3, dtype: object"
      ]
     },
     "execution_count": 46,
     "metadata": {},
     "output_type": "execute_result"
    }
   ],
   "source": [
    "df.iloc[3]"
   ]
  },
  {
   "cell_type": "code",
   "execution_count": null,
   "id": "ae8c44ca-5358-44cc-9fbd-f0221940497b",
   "metadata": {},
   "outputs": [],
   "source": [
    "                                                            "
   ]
  }
 ],
 "metadata": {
  "kernelspec": {
   "display_name": "Python 3 (ipykernel)",
   "language": "python",
   "name": "python3"
  },
  "language_info": {
   "codemirror_mode": {
    "name": "ipython",
    "version": 3
   },
   "file_extension": ".py",
   "mimetype": "text/x-python",
   "name": "python",
   "nbconvert_exporter": "python",
   "pygments_lexer": "ipython3",
   "version": "3.12.3"
  }
 },
 "nbformat": 4,
 "nbformat_minor": 5
}

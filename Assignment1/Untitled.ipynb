{
 "cells": [
  {
   "cell_type": "code",
   "execution_count": 1,
   "id": "d216605f-69fc-46d3-800a-1ccfbbd71c5c",
   "metadata": {},
   "outputs": [
    {
     "data": {
      "text/plain": [
       "<Response [403]>"
      ]
     },
     "execution_count": 1,
     "metadata": {},
     "output_type": "execute_result"
    }
   ],
   "source": [
    "from bs4 import BeautifulSoup as bs\n",
    "import requests\n",
    "link=(\"https://www.imdb.com/title/tt0110076/reviews/?ref_=tturv_ql_2\")\n",
    "page=requests.get(link)\n",
    "page\n"
   ]
  },
  {
   "cell_type": "code",
   "execution_count": 2,
   "id": "10981e01-2cd0-4d91-b023-4d626ea90f36",
   "metadata": {},
   "outputs": [],
   "source": [
    "soup=bs(page.content,'html.parser')"
   ]
  },
  {
   "cell_type": "code",
   "execution_count": 3,
   "id": "fbd93fa5-ca79-4c4f-810d-463ea16f4325",
   "metadata": {},
   "outputs": [
    {
     "data": {
      "text/plain": [
       "[]"
      ]
     },
     "execution_count": 3,
     "metadata": {},
     "output_type": "execute_result"
    }
   ],
   "source": [
    "names=soup.find_all(\"span\",class_=\"TextWeb__Text-sc-1cyx778-0 gEyFve Block-sc-u1lygz-0 SpmXl\")\n",
    "names"
   ]
  },
  {
   "cell_type": "code",
   "execution_count": 6,
   "id": "9645aa54-7790-4a52-9df8-65189ad7038e",
   "metadata": {},
   "outputs": [],
   "source": [
    "title=[] \n",
    "for i in range(len(names)):\n",
    "    title.append(names[i].get_text())"
   ]
  },
  {
   "cell_type": "code",
   "execution_count": null,
   "id": "c5678b09-019c-4f05-a6c3-89195d980c87",
   "metadata": {},
   "outputs": [],
   "source": [
    "title"
   ]
  },
  {
   "cell_type": "code",
   "execution_count": 7,
   "id": "56b0e22f-1094-4631-868a-4705b9e1c085",
   "metadata": {},
   "outputs": [],
   "source": [
    "review=soup.find_all(\"div\",class_=\"TextWeb__Text-sc-1cyx778-0 SingleReview__ReviewText-sc-1knvtv4-0 cXyRgU cuCfAW\")"
   ]
  },
  {
   "cell_type": "code",
   "execution_count": 8,
   "id": "a6a5051f-738a-4169-9a88-083a4526b969",
   "metadata": {},
   "outputs": [],
   "source": [
    "rev=[]\n",
    "for i in range(len(review)):\n",
    "    rev.append(review[i].get_text())"
   ]
  },
  {
   "cell_type": "code",
   "execution_count": null,
   "id": "33b764ee-1729-49b1-bf22-21667dfa1232",
   "metadata": {},
   "outputs": [],
   "source": [
    "rev"
   ]
  }
 ],
 "metadata": {
  "kernelspec": {
   "display_name": "Python 3 (ipykernel)",
   "language": "python",
   "name": "python3"
  },
  "language_info": {
   "codemirror_mode": {
    "name": "ipython",
    "version": 3
   },
   "file_extension": ".py",
   "mimetype": "text/x-python",
   "name": "python",
   "nbconvert_exporter": "python",
   "pygments_lexer": "ipython3",
   "version": "3.12.3"
  }
 },
 "nbformat": 4,
 "nbformat_minor": 5
}

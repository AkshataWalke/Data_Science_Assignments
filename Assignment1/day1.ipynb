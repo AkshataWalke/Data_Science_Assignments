{
 "cells": [
  {
   "cell_type": "code",
   "execution_count": 34,
   "id": "6150d361-4dc4-48aa-9084-b14b6636dba1",
   "metadata": {},
   "outputs": [
    {
     "data": {
      "text/plain": [
       "<Response [200]>"
      ]
     },
     "execution_count": 34,
     "metadata": {},
     "output_type": "execute_result"
    }
   ],
   "source": [
    "from bs4 import BeautifulSoup as bs\n",
    "import requests\n",
    "link=\"https://www.amazon.com/All-New-release-Smart-speaker-Charcoal/dp/B09B8V1LZ3?th\"\n",
    "page=requests.get(link)\n",
    "page\n"
   ]
  },
  {
   "cell_type": "code",
   "execution_count": 35,
   "id": "ffc20d8d-de7b-4571-9731-005d388fb403",
   "metadata": {},
   "outputs": [],
   "source": [
    "soup=bs(page.content,'html.parser')\n"
   ]
  },
  {
   "cell_type": "code",
   "execution_count": 36,
   "id": "d2eb3d56-af46-4fb4-bee3-69d6e2f2d636",
   "metadata": {},
   "outputs": [
    {
     "data": {
      "text/plain": [
       "[<p class=\"a-spacing-small\"><span>Customers like the sound quality, ease of setup, and value for money of the digital device. They mention it's very good for such a small device, the quiet parts of music are quiet and calming the way they should be. Some are satisfied with the design. However, some dislike connectivity and have mixed opinions on functionality, voice recognition, and music playback.</span></p>,\n",
       " <p class=\"a-spacing-small\">Customers like the sound quality of the digital device. They mention the quiet parts of music are quiet and calming.</p>,\n",
       " <p class=\"a-spacing-small\">Customers find the digital device easy to set up and use. They mention it's simple to pair them up, has seamless integration with a variety of smart home devices, and manages their smart home setup through the Echo Dot. Some say Alexa is easy and quick to connect to everything.</p>,\n",
       " <p class=\"a-spacing-small\">Customers appreciate the value for money of the digital device. They mention it's worth the price and has a number of features.</p>,\n",
       " <p class=\"a-spacing-small\">Customers like the design of the digital device. They mention it looks appealing, is discreet in appearance in the room, and combines functionality with style. Some appreciate the deep blue color of the unit.</p>,\n",
       " <p class=\"a-spacing-small\">Customers have mixed opinions about the functionality of the digital device. Some mention it's very useful, while others say the theater feature doesn't work and the sound quality is clear and powerful for such a compact device.</p>,\n",
       " <p class=\"a-spacing-small\">Customers have mixed opinions about the voice recognition of the digital device. Some mention it's great, responsive, and intuitive. Others say it's gimmicky and takes a painstakingly long time to configure.</p>,\n",
       " <p class=\"a-spacing-small\">Customers have mixed opinions about the music playback of the digital device. Some mention they love that they can play music from their own Apple Music account, and it's perfect for everything from podcasts to music. Others say it doesn't play the songs they want to hear and just starts playing a playlist.</p>,\n",
       " <p class=\"a-spacing-small\">Customers are dissatisfied with the connectivity of the digital device. They mention it has problems staying connected to the network, Occasionally drops the network, and is not really paired with anything. The WiFi range is lacking.</p>]"
      ]
     },
     "execution_count": 36,
     "metadata": {},
     "output_type": "execute_result"
    }
   ],
   "source": [
    "names1=soup.find_all('p',class_=\"a-spacing-small\")\n",
    "names1"
   ]
  },
  {
   "cell_type": "code",
   "execution_count": 37,
   "id": "d75b654f-f46b-4f86-a402-75b755e730f8",
   "metadata": {},
   "outputs": [],
   "source": [
    "cust_names1=[]\n",
    "for i in range(0,len(names1)):\n",
    "    cust_names1.append(names1[i].get_text())"
   ]
  },
  {
   "cell_type": "code",
   "execution_count": 38,
   "id": "1538315b-8ede-43bf-af43-2c79b25ac835",
   "metadata": {},
   "outputs": [
    {
     "data": {
      "text/plain": [
       "\"Customers like the sound quality, ease of setup, and value for money of the digital device. They mention it's very good for such a small device, the quiet parts of music are quiet and calming the way they should be. Some are satisfied with the design. However, some dislike connectivity and have mixed opinions on functionality, voice recognition, and music playback.\""
      ]
     },
     "execution_count": 38,
     "metadata": {},
     "output_type": "execute_result"
    }
   ],
   "source": [
    "cust_names1[0]"
   ]
  },
  {
   "cell_type": "code",
   "execution_count": 39,
   "id": "75ef3d50-f000-4cf4-9fd6-15f81a6ab0bd",
   "metadata": {},
   "outputs": [
    {
     "data": {
      "text/plain": [
       "9"
      ]
     },
     "execution_count": 39,
     "metadata": {},
     "output_type": "execute_result"
    }
   ],
   "source": [
    "len(cust_names1)"
   ]
  },
  {
   "cell_type": "code",
   "execution_count": 50,
   "id": "998e246d-150b-478b-9a17-a875307428b4",
   "metadata": {},
   "outputs": [
    {
     "data": {
      "text/plain": [
       "'Customers like the sound quality of the digital device. They mention the quiet parts of music are quiet and calming.'"
      ]
     },
     "execution_count": 50,
     "metadata": {},
     "output_type": "execute_result"
    }
   ],
   "source": [
    "cust_names1[1]"
   ]
  },
  {
   "cell_type": "code",
   "execution_count": 41,
   "id": "86b5c84b-0dc4-46b0-b12e-0d5211fe52c7",
   "metadata": {},
   "outputs": [
    {
     "data": {
      "text/plain": [
       "[<div class=\"a-expander-content reviewText review-text-content a-expander-partial-collapse-content\" data-expanded=\"false\" data-hook=\"review-collapsed\">\n",
       " <span>**Amazon Echo Dot (5th Gen, 2022 release) Review**<br><br>The Amazon Echo Dot (5th Gen, 2022 release) is a compact, feature-rich smart speaker that continues to impress with its enhanced audio quality and robust Alexa integration. Here are some key aspects to consider:<br><br>**Design:**<br>The 5th Gen Echo Dot maintains the sleek, spherical design of its predecessor, fitting seamlessly into any room decor. Its compact size makes it easy to place on a nightstand, kitchen counter, or office desk.<br><br>**Audio Quality:**<br>One of the most notable improvements in this version is the audio quality. The sound is clearer and more powerful, with enhanced bass performance. This makes it suitable not only for casual background listening but also for enjoying music and podcasts at higher volumes.<br><br>**Alexa Integration:**<br>As expected, Alexa's integration is top-notch. The Echo Dot excels in voice recognition, allowing for hands-free control of smart home devices, setting reminders, answering questions, and more. The responsiveness and accuracy of Alexa continue to be a strong selling point.<br><br>**Features:**<br>The 5th Gen Echo Dot includes all the essential features users have come to expect, such as:<br>- **Voice Assistant:** Full Alexa support for a wide range of tasks.<br>- **Smart Home Control:** Seamless integration with a variety of smart home devices.<br>- **Connectivity:** Bluetooth and Wi-Fi connectivity for streaming music and more.<br>- **Privacy Controls:** Physical microphone off button for added privacy.<br><br>**Price:**<br>Priced competitively, the Echo Dot offers excellent value for the features and performance it delivers. It's a cost-effective way to upgrade your home with smart capabilities.<br><br>**Pros:**<br/>- Improved audio quality with enhanced bass.<br/>- Sleek, compact design that fits easily into any space.<br/>- Highly responsive and accurate Alexa integration.<br/>- Competitive pricing.<br/><br/>**Cons:**<br/>- No major design changes from the previous generation.<br/>- Still requires a subscription for some music services.<br/><br/>**Conclusion:**<br/>The Amazon Echo Dot (5th Gen, 2022 release) is a fantastic upgrade for anyone looking to enhance their smart home setup or simply enjoy better audio quality in a small package. Its blend of improved sound, seamless Alexa integration, and attractive pricing make it a standout choice in the smart speaker market.</br></br></br></br></br></br></br></br></br></br></br></br></br></br></br></br></br></br></br></br></br></br></br></span>\n",
       " </div>,\n",
       " <div class=\"a-expander-content reviewText review-text-content a-expander-partial-collapse-content\" data-expanded=\"false\" data-hook=\"review-collapsed\">\n",
       " <span>I recently purchased the Echo Dot, and I couldn't be happier with my decision! This smart speaker is a fantastic addition to my home. The sound quality is surprisingly rich and clear for such a compact device, making it perfect for everything from music to podcasts.<br/><br/>Setting it up was a breeze, and I love how it seamlessly integrates with my smart home devices. Being able to control my lights, thermostat, and even my coffee maker with just my voice is incredibly convenient. The Alexa voice assistant is responsive and surprisingly intuitive, answering my questions, setting reminders, and helping me manage my schedule effortlessly.<br/><br/>I also appreciate the range of skills available, from playing games to accessing news updates. It's like having a personal assistant that makes my daily life easier and more enjoyable. Overall, the Echo Dot is a fantastic purchase that combines functionality with style. Highly recommended for anyone looking to enhance their home with smart technology! It was definitely worth the money</span>\n",
       " </div>,\n",
       " <div class=\"a-expander-content reviewText review-text-content a-expander-partial-collapse-content\" data-expanded=\"false\" data-hook=\"review-collapsed\">\n",
       " <span>This is my first home \"smart device\" &amp; I have to say that it's pretty good. I use it to turn on/off lights in almost every room in my home, which has made a small impact on my kw usage - I've used LESS! The music &amp; \"Easter Eggs\" make it fun as well.<br/>I now have two of them. One for downstairs &amp; one for upstairs. Pairing them up was simple (even for an old guy like me!)<br/>The sound is very good for such a small device as well. So far, I like it.</span>\n",
       " </div>,\n",
       " <div class=\"a-expander-content reviewText review-text-content a-expander-partial-collapse-content\" data-expanded=\"false\" data-hook=\"review-collapsed\">\n",
       " <span>I recently upgraded to the Echo Dot 5th Gen, and overall, I’m really happy with it! The sound quality is noticeably better than previous models, and it works great for playing music, podcasts, or answering questions. The voice recognition is still top-notch, even when there’s background noise or I’m far from the device.<br/><br/>One small downside I’ve noticed is that sometimes there’s a slight delay when using smart home controls, but it’s not frequent enough to be a major issue. For the most part, it integrates well with my other devices and makes managing my home a lot easier.<br/><br/>Overall, it’s a great upgrade, though there are a few minor issues that keep it from being perfect. Still, I’d recommend it to anyone looking to expand their smart home setup!</span>\n",
       " </div>,\n",
       " <div class=\"a-expander-content reviewText review-text-content a-expander-partial-collapse-content\" data-expanded=\"false\" data-hook=\"review-collapsed\">\n",
       " <span>While I do think this is the best smart “speaker” I wish it was a bit louder since I use it for listening to music mainly. Other than that, which is more than likely just because of my hearing issues - my only issue is that I was using Apple Music Plus and the lack of music controls (Queuing music, selecting specific songs without verbal command, etc) is literally nonexistent. Since I get Apple Music for free, I decided to get a Spotify Premium subscription because I like to be picky when listening to my music. Every so often, if I try to connect the dot through the Spotify app, it will show that the dot is unavailable so it’s a bit frustrating but not the end of the world.<br/>It’s still worth the purchase though!</span>\n",
       " </div>]"
      ]
     },
     "execution_count": 41,
     "metadata": {},
     "output_type": "execute_result"
    }
   ],
   "source": [
    "names=soup.find_all('div',class_=\"a-expander-content reviewText review-text-content a-expander-partial-collapse-content\")\n",
    "names\n"
   ]
  },
  {
   "cell_type": "code",
   "execution_count": 42,
   "id": "97029a5c-96f2-4deb-a294-d4a5019e51d6",
   "metadata": {},
   "outputs": [
    {
     "data": {
      "text/plain": [
       "5"
      ]
     },
     "execution_count": 42,
     "metadata": {},
     "output_type": "execute_result"
    }
   ],
   "source": [
    "len(names)"
   ]
  },
  {
   "cell_type": "code",
   "execution_count": 43,
   "id": "d08ab98d-ea91-4dbb-99e8-088c794ceba0",
   "metadata": {},
   "outputs": [],
   "source": [
    "\n",
    "for i in range(0,len(names)):\n",
    "    cust_names1.append(names[i].get_text())"
   ]
  },
  {
   "cell_type": "code",
   "execution_count": 44,
   "id": "79b08a9b-7157-4a41-b740-357739678103",
   "metadata": {},
   "outputs": [
    {
     "data": {
      "text/plain": [
       "14"
      ]
     },
     "execution_count": 44,
     "metadata": {},
     "output_type": "execute_result"
    }
   ],
   "source": [
    "len(cust_names1)"
   ]
  },
  {
   "cell_type": "code",
   "execution_count": 45,
   "id": "774bd8df-4d6c-44ca-bca2-67d85fc1cbf5",
   "metadata": {},
   "outputs": [],
   "source": [
    "import pandas as pd "
   ]
  },
  {
   "cell_type": "code",
   "execution_count": 46,
   "id": "65bb2908-9713-4f68-9fd8-8f729b4d9af3",
   "metadata": {},
   "outputs": [],
   "source": [
    "df=pd.DataFrame({\n",
    "    \"reivew\":cust_names1\n",
    "                })"
   ]
  },
  {
   "cell_type": "code",
   "execution_count": 47,
   "id": "41456e03-dde7-460b-b2d7-1e2b90e90722",
   "metadata": {},
   "outputs": [
    {
     "data": {
      "text/html": [
       "<div>\n",
       "<style scoped>\n",
       "    .dataframe tbody tr th:only-of-type {\n",
       "        vertical-align: middle;\n",
       "    }\n",
       "\n",
       "    .dataframe tbody tr th {\n",
       "        vertical-align: top;\n",
       "    }\n",
       "\n",
       "    .dataframe thead th {\n",
       "        text-align: right;\n",
       "    }\n",
       "</style>\n",
       "<table border=\"1\" class=\"dataframe\">\n",
       "  <thead>\n",
       "    <tr style=\"text-align: right;\">\n",
       "      <th></th>\n",
       "      <th>reivew</th>\n",
       "    </tr>\n",
       "  </thead>\n",
       "  <tbody>\n",
       "    <tr>\n",
       "      <th>1</th>\n",
       "      <td>Customers like the sound quality of the digita...</td>\n",
       "    </tr>\n",
       "    <tr>\n",
       "      <th>8</th>\n",
       "      <td>Customers are dissatisfied with the connectivi...</td>\n",
       "    </tr>\n",
       "    <tr>\n",
       "      <th>10</th>\n",
       "      <td>\\nI recently purchased the Echo Dot, and I cou...</td>\n",
       "    </tr>\n",
       "    <tr>\n",
       "      <th>2</th>\n",
       "      <td>Customers find the digital device easy to set ...</td>\n",
       "    </tr>\n",
       "  </tbody>\n",
       "</table>\n",
       "</div>"
      ],
      "text/plain": [
       "                                               reivew\n",
       "1   Customers like the sound quality of the digita...\n",
       "8   Customers are dissatisfied with the connectivi...\n",
       "10  \\nI recently purchased the Echo Dot, and I cou...\n",
       "2   Customers find the digital device easy to set ..."
      ]
     },
     "execution_count": 47,
     "metadata": {},
     "output_type": "execute_result"
    }
   ],
   "source": [
    "df.sample(4)"
   ]
  },
  {
   "cell_type": "code",
   "execution_count": 48,
   "id": "9dc5c2eb-c38d-48aa-881f-8b83603ffa67",
   "metadata": {},
   "outputs": [
    {
     "data": {
      "text/plain": [
       "\"Customers like the sound quality, ease of setup, and value for money of the digital device. They mention it's very good for such a small device, the quiet parts of music are quiet and calming the way they should be. Some are satisfied with the design. However, some dislike connectivity and have mixed opinions on functionality, voice recognition, and music playback.\""
      ]
     },
     "execution_count": 48,
     "metadata": {},
     "output_type": "execute_result"
    }
   ],
   "source": [
    "cust_names1[0]"
   ]
  },
  {
   "cell_type": "code",
   "execution_count": 49,
   "id": "51bf1c88-b5d7-475c-a754-24e6eccea106",
   "metadata": {},
   "outputs": [
    {
     "data": {
      "text/plain": [
       "0     0.173333\n",
       "1     0.100000\n",
       "2     0.216071\n",
       "3     0.150000\n",
       "4     0.125000\n",
       "5     0.170000\n",
       "6     0.110000\n",
       "7     0.420000\n",
       "8    -0.033333\n",
       "9     0.253377\n",
       "10    0.330476\n",
       "11    0.179711\n",
       "12    0.256196\n",
       "13    0.196429\n",
       "Name: polarity, dtype: float64"
      ]
     },
     "execution_count": 49,
     "metadata": {},
     "output_type": "execute_result"
    }
   ],
   "source": [
    "import pandas as pd\n",
    "from textblob import TextBlob\n",
    "df['polarity']=df['reivew'].apply(lambda x:TextBlob(str(x)).sentiment.polarity)\n",
    "df['polarity']\n"
   ]
  },
  {
   "cell_type": "code",
   "execution_count": null,
   "id": "66de8de6-998f-419f-9222-f3493c6e17f6",
   "metadata": {},
   "outputs": [],
   "source": []
  },
  {
   "cell_type": "code",
   "execution_count": null,
   "id": "6eca2b2f-ecbe-4771-9f92-c8c45b33bfb8",
   "metadata": {},
   "outputs": [],
   "source": []
  }
 ],
 "metadata": {
  "kernelspec": {
   "display_name": "Python 3 (ipykernel)",
   "language": "python",
   "name": "python3"
  },
  "language_info": {
   "codemirror_mode": {
    "name": "ipython",
    "version": 3
   },
   "file_extension": ".py",
   "mimetype": "text/x-python",
   "name": "python",
   "nbconvert_exporter": "python",
   "pygments_lexer": "ipython3",
   "version": "3.12.3"
  }
 },
 "nbformat": 4,
 "nbformat_minor": 5
}
